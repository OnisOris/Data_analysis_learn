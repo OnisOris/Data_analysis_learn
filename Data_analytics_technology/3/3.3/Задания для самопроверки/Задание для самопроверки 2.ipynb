{
 "cells": [
  {
   "cell_type": "code",
   "execution_count": 8,
   "id": "97674c82-3baf-421c-96e3-dc85b5590350",
   "metadata": {},
   "outputs": [],
   "source": [
    "import numpy as np"
   ]
  },
  {
   "cell_type": "markdown",
   "id": "e188bdd5-0fa3-4e2f-a0d5-2a010b14386e",
   "metadata": {},
   "source": [
    "# Задание 1"
   ]
  },
  {
   "cell_type": "code",
   "execution_count": 9,
   "id": "8434e7d6-d103-4291-a617-5c3a5c59e999",
   "metadata": {},
   "outputs": [],
   "source": [
    "arr = np.array([[1,2,3], [4,5,6], [7,8,9]])"
   ]
  },
  {
   "cell_type": "code",
   "execution_count": 10,
   "id": "2bc094d7-88b4-433b-b5a1-3adace138253",
   "metadata": {},
   "outputs": [
    {
     "data": {
      "text/plain": [
       "array([[2, 3],\n",
       "       [5, 6]])"
      ]
     },
     "execution_count": 10,
     "metadata": {},
     "output_type": "execute_result"
    }
   ],
   "source": [
    "arr[:2, 1:]"
   ]
  },
  {
   "cell_type": "code",
   "execution_count": 11,
   "id": "056f60ae-1adb-4a08-b49c-9a14b5e1cc98",
   "metadata": {},
   "outputs": [
    {
     "data": {
      "text/plain": [
       "array([7, 8, 9])"
      ]
     },
     "execution_count": 11,
     "metadata": {},
     "output_type": "execute_result"
    }
   ],
   "source": [
    "arr[2]"
   ]
  },
  {
   "cell_type": "code",
   "execution_count": 12,
   "id": "2ad04cd3-f717-4561-8ea9-e7b1b206e375",
   "metadata": {},
   "outputs": [
    {
     "data": {
      "text/plain": [
       "array([[1, 2],\n",
       "       [4, 5],\n",
       "       [7, 8]])"
      ]
     },
     "execution_count": 12,
     "metadata": {},
     "output_type": "execute_result"
    }
   ],
   "source": [
    "arr[:, :2]"
   ]
  },
  {
   "cell_type": "code",
   "execution_count": 13,
   "id": "9cbfa3fc-6af4-4803-bc18-21a6a8f62b9c",
   "metadata": {},
   "outputs": [
    {
     "data": {
      "text/plain": [
       "array([4, 5])"
      ]
     },
     "execution_count": 13,
     "metadata": {},
     "output_type": "execute_result"
    }
   ],
   "source": [
    "arr[1, :2]"
   ]
  },
  {
   "cell_type": "code",
   "execution_count": 18,
   "id": "c7ada8e4-30cf-4e90-9f66-105838b7724f",
   "metadata": {},
   "outputs": [
    {
     "data": {
      "text/plain": [
       "array([[1, 2, 3],\n",
       "       [4, 5, 6],\n",
       "       [7, 8, 9]])"
      ]
     },
     "execution_count": 18,
     "metadata": {},
     "output_type": "execute_result"
    }
   ],
   "source": [
    "arr"
   ]
  },
  {
   "cell_type": "markdown",
   "id": "3749abc6-d66b-4137-bb97-8caf793c1232",
   "metadata": {},
   "source": [
    "# Задание 2\n",
    "Напишите разультаты выполнения кода, написанного на языке Python.\n",
    "Выведите размерность .size массива np.append(np.zeros((2,2)),np.array([[1,2],[4,5]])):"
   ]
  },
  {
   "cell_type": "code",
   "execution_count": 16,
   "id": "68b0d67a-60dc-4e56-ad76-be566acaa0c2",
   "metadata": {},
   "outputs": [
    {
     "data": {
      "text/plain": [
       "(8,)"
      ]
     },
     "execution_count": 16,
     "metadata": {},
     "output_type": "execute_result"
    }
   ],
   "source": [
    "np.shape(np.append(np.zeros((2,2)),np.array([[1,2],[4,5]])))"
   ]
  },
  {
   "cell_type": "code",
   "execution_count": 19,
   "id": "a60f5308-868d-4f38-b588-f96291a3eb03",
   "metadata": {},
   "outputs": [
    {
     "data": {
      "text/plain": [
       "8"
      ]
     },
     "execution_count": 19,
     "metadata": {},
     "output_type": "execute_result"
    }
   ],
   "source": [
    "np.append(np.zeros((2,2)),np.array([[1,2],[4,5]])).size"
   ]
  },
  {
   "cell_type": "markdown",
   "id": "29ed99da-5cce-418a-83c3-722d2f53f682",
   "metadata": {},
   "source": [
    "Выведите количество строк массива np.append(np.zeros((2,2)),np.array([[1,2],[4,5]]),axis = 1):"
   ]
  },
  {
   "cell_type": "code",
   "execution_count": 20,
   "id": "eddbda3e-3f0f-48ae-89f5-453822760c3b",
   "metadata": {},
   "outputs": [
    {
     "data": {
      "text/plain": [
       "(2, 4)"
      ]
     },
     "execution_count": 20,
     "metadata": {},
     "output_type": "execute_result"
    }
   ],
   "source": [
    "np.shape(np.append(np.zeros((2,2)),np.array([[1,2],[4,5]]),axis = 1))"
   ]
  },
  {
   "cell_type": "markdown",
   "id": "f00adeae-c6c1-4b2f-9b0e-85f19bdbca0a",
   "metadata": {},
   "source": [
    "Выведите значение последнего элемента массива np.sort(np.append(np.array([[1,2],[3,0]]),np.array([[1,2],[5,4]]),axis = 0),axis = 0):"
   ]
  },
  {
   "cell_type": "code",
   "execution_count": 21,
   "id": "62a43361-8e63-4126-9bb8-db42d21b9c2c",
   "metadata": {},
   "outputs": [
    {
     "data": {
      "text/plain": [
       "4"
      ]
     },
     "execution_count": 21,
     "metadata": {},
     "output_type": "execute_result"
    }
   ],
   "source": [
    "np.sort(np.append(np.array([[1,2],[3,0]]),np.array([[1,2],[5,4]]),axis = 0),axis = 0)[-1, -1]"
   ]
  },
  {
   "cell_type": "markdown",
   "id": "2655a1cb-b4a7-41ad-a62c-0be6529b3332",
   "metadata": {},
   "source": [
    "Сколько элементов будет выведено в результате суммирования np.append(np.array([[1,2],[3,0]]),np.array([[1,2],[5,4]]),axis = 0).sum(axis = 1):"
   ]
  },
  {
   "cell_type": "code",
   "execution_count": 24,
   "id": "6e99084f-7ca9-4eab-b616-aa5e6a0342a8",
   "metadata": {},
   "outputs": [
    {
     "data": {
      "text/plain": [
       "4"
      ]
     },
     "execution_count": 24,
     "metadata": {},
     "output_type": "execute_result"
    }
   ],
   "source": [
    "np.append(np.array([[1,2],[3,0]]),np.array([[1,2],[5,4]]),axis = 0).sum(axis = 1).size"
   ]
  },
  {
   "cell_type": "code",
   "execution_count": null,
   "id": "02eed947-fea6-4ac2-a446-dfd1de5d9fcf",
   "metadata": {},
   "outputs": [],
   "source": []
  }
 ],
 "metadata": {
  "kernelspec": {
   "display_name": "Python 3 (ipykernel)",
   "language": "python",
   "name": "python3"
  },
  "language_info": {
   "codemirror_mode": {
    "name": "ipython",
    "version": 3
   },
   "file_extension": ".py",
   "mimetype": "text/x-python",
   "name": "python",
   "nbconvert_exporter": "python",
   "pygments_lexer": "ipython3",
   "version": "3.11.5"
  }
 },
 "nbformat": 4,
 "nbformat_minor": 5
}
