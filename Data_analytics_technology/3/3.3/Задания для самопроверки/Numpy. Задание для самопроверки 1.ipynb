{
 "cells": [
  {
   "cell_type": "code",
   "execution_count": 109,
   "id": "9e34c646-7c12-472d-b26d-c6e29e8f58f0",
   "metadata": {},
   "outputs": [],
   "source": [
    "import numpy as np\n",
    "import pandas as pd\n",
    "from pandas import Series, DataFrame"
   ]
  },
  {
   "cell_type": "code",
   "execution_count": null,
   "id": "dabbed2d-e051-4e5b-ac48-c99cd8b5738a",
   "metadata": {},
   "outputs": [],
   "source": []
  },
  {
   "cell_type": "markdown",
   "id": "09e5daed-4b55-4138-a64c-e82f6a674e37",
   "metadata": {},
   "source": [
    "# Задание 1"
   ]
  },
  {
   "cell_type": "markdown",
   "id": "63996795-1cd5-42a3-9b52-df75ab2750b9",
   "metadata": {},
   "source": [
    "Необходимо сравнить скорость создания одномерного массива c помощью встроенных функций zeros(), ones(), empty() в Python.\n",
    "\n",
    "В Google Colab для получения времени выполнения кода каждой ячейки удобно воспользоваться функцией %%time. Например:"
   ]
  },
  {
   "cell_type": "code",
   "execution_count": 110,
   "id": "54309b09-733a-49ad-9ca8-c85127169b8f",
   "metadata": {},
   "outputs": [
    {
     "name": "stdout",
     "output_type": "stream",
     "text": [
      "CPU times: total: 0 ns\n",
      "Wall time: 0 ns\n"
     ]
    },
    {
     "data": {
      "text/plain": [
       "array([1, 4, 5, 3, 4, 3, 3])"
      ]
     },
     "execution_count": 110,
     "metadata": {},
     "output_type": "execute_result"
    }
   ],
   "source": [
    "%%time \n",
    "np.array([1,4,5,3,4,3,3])"
   ]
  },
  {
   "cell_type": "markdown",
   "id": "74c4b03a-aca8-47f4-90a1-0c915eaec58e",
   "metadata": {},
   "source": [
    "Создайте три одномерных массива размерностью 100, используя каждую из вышеперечисленных функций, и напишите полученные результаты Wall time.\n",
    "Полученные результаты следует писать через запятую в порядке перечисленных выше функций (т.е. сначала для zeros(), потом для ones(), в конце для empty()). "
   ]
  },
  {
   "cell_type": "code",
   "execution_count": 111,
   "id": "c9468093-f4c5-4626-b920-3ebd762fc074",
   "metadata": {},
   "outputs": [
    {
     "name": "stdout",
     "output_type": "stream",
     "text": [
      "CPU times: total: 0 ns\n",
      "Wall time: 0 ns\n"
     ]
    },
    {
     "data": {
      "text/plain": [
       "array([0., 0., 0., ..., 0., 0., 0.])"
      ]
     },
     "execution_count": 111,
     "metadata": {},
     "output_type": "execute_result"
    }
   ],
   "source": [
    "%%time \n",
    "np.zeros(100000)"
   ]
  },
  {
   "cell_type": "code",
   "execution_count": 112,
   "id": "403e29ce-93bc-44ee-aa2d-4af45ab03d41",
   "metadata": {},
   "outputs": [
    {
     "name": "stdout",
     "output_type": "stream",
     "text": [
      "CPU times: total: 0 ns\n",
      "Wall time: 0 ns\n"
     ]
    },
    {
     "data": {
      "text/plain": [
       "array([1., 1., 1., ..., 1., 1., 1.])"
      ]
     },
     "execution_count": 112,
     "metadata": {},
     "output_type": "execute_result"
    }
   ],
   "source": [
    "%%time \n",
    "np.ones(100000)"
   ]
  },
  {
   "cell_type": "code",
   "execution_count": 113,
   "id": "b9ecfc3c-3a54-4c17-9f67-7ec9869affef",
   "metadata": {},
   "outputs": [
    {
     "name": "stdout",
     "output_type": "stream",
     "text": [
      "CPU times: total: 0 ns\n",
      "Wall time: 0 ns\n"
     ]
    },
    {
     "data": {
      "text/plain": [
       "array([7.43545888e-312, 7.91829874e-312, 0.00000000e+000, ...,\n",
       "       0.00000000e+000, 0.00000000e+000, 0.00000000e+000])"
      ]
     },
     "execution_count": 113,
     "metadata": {},
     "output_type": "execute_result"
    }
   ],
   "source": [
    "%%time \n",
    "np.empty(100000)"
   ]
  },
  {
   "cell_type": "markdown",
   "id": "454072f0-466e-4e0e-a026-645af49fce8a",
   "metadata": {},
   "source": [
    "Как видно из Wall time массив создается быстрее всего с помощью функции numpy.empty()"
   ]
  },
  {
   "cell_type": "markdown",
   "id": "779c3914-ab10-42db-a194-b4df0d3fb9a4",
   "metadata": {},
   "source": [
    "# Задание 2\n",
    "Выберите из предложенных ниже тот вариант (варианты) кода на языке Python, результатом выполнения которого является следующее: array([1., 1., 1., 1.]) "
   ]
  },
  {
   "cell_type": "code",
   "execution_count": 114,
   "id": "e174fa32-76dd-4792-9d86-a25d25d7f6e4",
   "metadata": {},
   "outputs": [
    {
     "data": {
      "text/plain": [
       "array([1., 1., 1., 1.])"
      ]
     },
     "execution_count": 114,
     "metadata": {},
     "output_type": "execute_result"
    }
   ],
   "source": [
    "np.linspace(1,1,4)"
   ]
  },
  {
   "cell_type": "code",
   "execution_count": 115,
   "id": "378b2f34-348c-4cd9-a1e4-ec5378ba238a",
   "metadata": {},
   "outputs": [
    {
     "data": {
      "text/plain": [
       "array([1., 1., 1., 1.])"
      ]
     },
     "execution_count": 115,
     "metadata": {},
     "output_type": "execute_result"
    }
   ],
   "source": [
    "np.ones(4)"
   ]
  },
  {
   "cell_type": "code",
   "execution_count": 116,
   "id": "604c6702-9052-4d4b-9aeb-5229ccb08126",
   "metadata": {},
   "outputs": [
    {
     "data": {
      "text/plain": [
       "array([1., 1., 1., 1.])"
      ]
     },
     "execution_count": 116,
     "metadata": {},
     "output_type": "execute_result"
    }
   ],
   "source": [
    "np.array([1,1,1,1.0])"
   ]
  },
  {
   "cell_type": "code",
   "execution_count": 117,
   "id": "785c5736-25c1-47ac-9f84-a47bafeb4aad",
   "metadata": {},
   "outputs": [
    {
     "data": {
      "text/plain": [
       "array([1., 1., 1., 1.])"
      ]
     },
     "execution_count": 117,
     "metadata": {},
     "output_type": "execute_result"
    }
   ],
   "source": [
    "np.ones(4, dtype=np.float64)"
   ]
  },
  {
   "cell_type": "markdown",
   "id": "d5c1c5dd-aff3-41dc-aec0-fc0410da0d53",
   "metadata": {},
   "source": [
    "# Задание 3\n",
    "При помощи Python реализуйте функцию с именем new_arr(arr, list1), которая добавляет в одномерный массив arr список list1. Возвращать функция должна тип данных получившегося массива и его длину. "
   ]
  },
  {
   "cell_type": "code",
   "execution_count": 118,
   "id": "7091b0a2-548d-49b2-bfc3-e41299f657cc",
   "metadata": {},
   "outputs": [],
   "source": [
    "import numpy as np\n",
    "def new_arr(arr, list1):\n",
    "    ret_arr = np.append(arr, list1)\n",
    "    return ret_arr.dtype, np.shape(ret_arr)[0]"
   ]
  },
  {
   "cell_type": "code",
   "execution_count": 119,
   "id": "19f55aec-b9a6-4957-87c7-e2ca15e13a01",
   "metadata": {},
   "outputs": [],
   "source": [
    "arr = np.array([23, 34])"
   ]
  },
  {
   "cell_type": "code",
   "execution_count": 120,
   "id": "552ab461-4eb8-481f-99e1-d15b53006cfe",
   "metadata": {},
   "outputs": [],
   "source": [
    "type, arr = new_arr(arr, [234, 3])"
   ]
  },
  {
   "cell_type": "code",
   "execution_count": 121,
   "id": "2fa40dd1-5917-43de-9406-b74018716740",
   "metadata": {},
   "outputs": [
    {
     "data": {
      "text/plain": [
       "dtype('int32')"
      ]
     },
     "execution_count": 121,
     "metadata": {},
     "output_type": "execute_result"
    }
   ],
   "source": [
    "type"
   ]
  },
  {
   "cell_type": "code",
   "execution_count": 122,
   "id": "05f7b56e-9e72-4f9f-897d-d245cbcf684f",
   "metadata": {},
   "outputs": [
    {
     "data": {
      "text/plain": [
       "4"
      ]
     },
     "execution_count": 122,
     "metadata": {},
     "output_type": "execute_result"
    }
   ],
   "source": [
    "arr"
   ]
  },
  {
   "cell_type": "markdown",
   "id": "8aa3254e-0609-4de5-8ebc-d835dc21360b",
   "metadata": {},
   "source": [
    "Данный вариант не подошел в тесте, поэтому попробуем другой вариант:"
   ]
  },
  {
   "cell_type": "code",
   "execution_count": 123,
   "id": "695fb985-5ecd-4e16-afd5-7e7e93f0978a",
   "metadata": {},
   "outputs": [],
   "source": [
    "def new_arr(arr, list1):\n",
    "\tarr = np.append(arr, list1)\n",
    "\treturn arr.dtype,len(arr) "
   ]
  },
  {
   "cell_type": "code",
   "execution_count": 124,
   "id": "290dd010-26df-40d1-8b57-ea009359d06f",
   "metadata": {},
   "outputs": [],
   "source": [
    "type, arr = new_arr(arr, [234, 3])"
   ]
  },
  {
   "cell_type": "code",
   "execution_count": 125,
   "id": "64ab0fb9-2483-4867-83e3-45914a0a85c7",
   "metadata": {},
   "outputs": [
    {
     "data": {
      "text/plain": [
       "dtype('int32')"
      ]
     },
     "execution_count": 125,
     "metadata": {},
     "output_type": "execute_result"
    }
   ],
   "source": [
    "type"
   ]
  },
  {
   "cell_type": "raw",
   "id": "498a6b29-142f-4825-8db6-8b9b7a4dcc89",
   "metadata": {},
   "source": [
    "arr"
   ]
  },
  {
   "cell_type": "code",
   "execution_count": null,
   "id": "df123896-4113-43a5-8b59-213bd0f35f92",
   "metadata": {},
   "outputs": [],
   "source": []
  }
 ],
 "metadata": {
  "kernelspec": {
   "display_name": "Python 3 (ipykernel)",
   "language": "python",
   "name": "python3"
  },
  "language_info": {
   "codemirror_mode": {
    "name": "ipython",
    "version": 3
   },
   "file_extension": ".py",
   "mimetype": "text/x-python",
   "name": "python",
   "nbconvert_exporter": "python",
   "pygments_lexer": "ipython3",
   "version": "3.11.5"
  }
 },
 "nbformat": 4,
 "nbformat_minor": 5
}
