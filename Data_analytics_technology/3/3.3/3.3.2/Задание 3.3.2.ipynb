{
 "cells": [
  {
   "cell_type": "code",
   "execution_count": 129,
   "id": "45dd96b7-5b78-4918-ab5e-755d39cd7bdb",
   "metadata": {},
   "outputs": [],
   "source": [
    "import pandas as pd\n",
    "import numpy as np"
   ]
  },
  {
   "cell_type": "markdown",
   "id": "0d417deb-6561-4bb6-956c-cf7c573a66d5",
   "metadata": {},
   "source": [
    "# Задача 1\n",
    "Средствами библиотеки Pandas языка Python считайте данные из файла titanic.csv (набор данных выживших пассажиров Титаника: класс кабины, возраст, пол, порт посадки и т.д.) и найдите требуюмую информацию:\n",
    "1. Введите количество записей в полученном датафрейме\n",
    "2. Введите среднее значение возраста пассажиров (округлите до целого)"
   ]
  },
  {
   "cell_type": "code",
   "execution_count": 130,
   "id": "69617d4e-3c7c-479b-8fab-6a54951a470f",
   "metadata": {},
   "outputs": [],
   "source": [
    "frame = pd.read_csv('./file.csv')"
   ]
  },
  {
   "cell_type": "code",
   "execution_count": 131,
   "id": "46f7a0bd-08c1-4787-8e99-d694f95d4438",
   "metadata": {},
   "outputs": [
    {
     "data": {
      "text/html": [
       "<div>\n",
       "<style scoped>\n",
       "    .dataframe tbody tr th:only-of-type {\n",
       "        vertical-align: middle;\n",
       "    }\n",
       "\n",
       "    .dataframe tbody tr th {\n",
       "        vertical-align: top;\n",
       "    }\n",
       "\n",
       "    .dataframe thead th {\n",
       "        text-align: right;\n",
       "    }\n",
       "</style>\n",
       "<table border=\"1\" class=\"dataframe\">\n",
       "  <thead>\n",
       "    <tr style=\"text-align: right;\">\n",
       "      <th></th>\n",
       "      <th>PassengerID</th>\n",
       "      <th>Name</th>\n",
       "      <th>PClass</th>\n",
       "      <th>Age</th>\n",
       "      <th>Sex</th>\n",
       "      <th>Survived</th>\n",
       "      <th>SexCode</th>\n",
       "    </tr>\n",
       "  </thead>\n",
       "  <tbody>\n",
       "    <tr>\n",
       "      <th>0</th>\n",
       "      <td>1</td>\n",
       "      <td>Allen, Miss Elisabeth Walton</td>\n",
       "      <td>1st</td>\n",
       "      <td>29.00</td>\n",
       "      <td>female</td>\n",
       "      <td>1</td>\n",
       "      <td>1</td>\n",
       "    </tr>\n",
       "    <tr>\n",
       "      <th>1</th>\n",
       "      <td>2</td>\n",
       "      <td>Allison, Miss Helen Loraine</td>\n",
       "      <td>1st</td>\n",
       "      <td>2.00</td>\n",
       "      <td>female</td>\n",
       "      <td>0</td>\n",
       "      <td>1</td>\n",
       "    </tr>\n",
       "    <tr>\n",
       "      <th>2</th>\n",
       "      <td>3</td>\n",
       "      <td>Allison, Mr Hudson Joshua Creighton</td>\n",
       "      <td>1st</td>\n",
       "      <td>30.00</td>\n",
       "      <td>male</td>\n",
       "      <td>0</td>\n",
       "      <td>0</td>\n",
       "    </tr>\n",
       "    <tr>\n",
       "      <th>3</th>\n",
       "      <td>4</td>\n",
       "      <td>Allison, Mrs Hudson JC (Bessie Waldo Daniels)</td>\n",
       "      <td>1st</td>\n",
       "      <td>25.00</td>\n",
       "      <td>female</td>\n",
       "      <td>0</td>\n",
       "      <td>1</td>\n",
       "    </tr>\n",
       "    <tr>\n",
       "      <th>4</th>\n",
       "      <td>5</td>\n",
       "      <td>Allison, Master Hudson Trevor</td>\n",
       "      <td>1st</td>\n",
       "      <td>0.92</td>\n",
       "      <td>male</td>\n",
       "      <td>1</td>\n",
       "      <td>0</td>\n",
       "    </tr>\n",
       "    <tr>\n",
       "      <th>...</th>\n",
       "      <td>...</td>\n",
       "      <td>...</td>\n",
       "      <td>...</td>\n",
       "      <td>...</td>\n",
       "      <td>...</td>\n",
       "      <td>...</td>\n",
       "      <td>...</td>\n",
       "    </tr>\n",
       "    <tr>\n",
       "      <th>1308</th>\n",
       "      <td>1309</td>\n",
       "      <td>Zakarian, Mr Artun</td>\n",
       "      <td>3rd</td>\n",
       "      <td>27.00</td>\n",
       "      <td>male</td>\n",
       "      <td>0</td>\n",
       "      <td>0</td>\n",
       "    </tr>\n",
       "    <tr>\n",
       "      <th>1309</th>\n",
       "      <td>1310</td>\n",
       "      <td>Zakarian, Mr Maprieder</td>\n",
       "      <td>3rd</td>\n",
       "      <td>26.00</td>\n",
       "      <td>male</td>\n",
       "      <td>0</td>\n",
       "      <td>0</td>\n",
       "    </tr>\n",
       "    <tr>\n",
       "      <th>1310</th>\n",
       "      <td>1311</td>\n",
       "      <td>Zenni, Mr Philip</td>\n",
       "      <td>3rd</td>\n",
       "      <td>22.00</td>\n",
       "      <td>male</td>\n",
       "      <td>0</td>\n",
       "      <td>0</td>\n",
       "    </tr>\n",
       "    <tr>\n",
       "      <th>1311</th>\n",
       "      <td>1312</td>\n",
       "      <td>Lievens, Mr Rene</td>\n",
       "      <td>3rd</td>\n",
       "      <td>24.00</td>\n",
       "      <td>male</td>\n",
       "      <td>0</td>\n",
       "      <td>0</td>\n",
       "    </tr>\n",
       "    <tr>\n",
       "      <th>1312</th>\n",
       "      <td>1313</td>\n",
       "      <td>Zimmerman, Leo</td>\n",
       "      <td>3rd</td>\n",
       "      <td>29.00</td>\n",
       "      <td>male</td>\n",
       "      <td>0</td>\n",
       "      <td>0</td>\n",
       "    </tr>\n",
       "  </tbody>\n",
       "</table>\n",
       "<p>1313 rows × 7 columns</p>\n",
       "</div>"
      ],
      "text/plain": [
       "      PassengerID                                           Name PClass  \\\n",
       "0               1                   Allen, Miss Elisabeth Walton    1st   \n",
       "1               2                    Allison, Miss Helen Loraine    1st   \n",
       "2               3            Allison, Mr Hudson Joshua Creighton    1st   \n",
       "3               4  Allison, Mrs Hudson JC (Bessie Waldo Daniels)    1st   \n",
       "4               5                  Allison, Master Hudson Trevor    1st   \n",
       "...           ...                                            ...    ...   \n",
       "1308         1309                             Zakarian, Mr Artun    3rd   \n",
       "1309         1310                         Zakarian, Mr Maprieder    3rd   \n",
       "1310         1311                               Zenni, Mr Philip    3rd   \n",
       "1311         1312                               Lievens, Mr Rene    3rd   \n",
       "1312         1313                                 Zimmerman, Leo    3rd   \n",
       "\n",
       "        Age     Sex  Survived  SexCode  \n",
       "0     29.00  female         1        1  \n",
       "1      2.00  female         0        1  \n",
       "2     30.00    male         0        0  \n",
       "3     25.00  female         0        1  \n",
       "4      0.92    male         1        0  \n",
       "...     ...     ...       ...      ...  \n",
       "1308  27.00    male         0        0  \n",
       "1309  26.00    male         0        0  \n",
       "1310  22.00    male         0        0  \n",
       "1311  24.00    male         0        0  \n",
       "1312  29.00    male         0        0  \n",
       "\n",
       "[1313 rows x 7 columns]"
      ]
     },
     "execution_count": 131,
     "metadata": {},
     "output_type": "execute_result"
    }
   ],
   "source": [
    "frame"
   ]
  },
  {
   "cell_type": "markdown",
   "id": "a78a3789-711f-4277-ad24-eb293a6dc7f5",
   "metadata": {},
   "source": [
    "Удалим строки со знаечнием NaN"
   ]
  },
  {
   "cell_type": "code",
   "execution_count": 132,
   "id": "eaff43aa-74ce-486d-97de-c0b80d01237b",
   "metadata": {},
   "outputs": [],
   "source": [
    "frame2 = frame.dropna()"
   ]
  },
  {
   "cell_type": "code",
   "execution_count": 133,
   "id": "b5453edb-91a7-4706-b2ac-5529a47e7b4b",
   "metadata": {},
   "outputs": [],
   "source": [
    "mean_val = np.mean(frame2[\"Age\"].to_numpy(), axis=0)"
   ]
  },
  {
   "cell_type": "code",
   "execution_count": 134,
   "id": "7f5bd537-6b24-4ac6-be66-269f1f70f8b2",
   "metadata": {},
   "outputs": [
    {
     "data": {
      "text/plain": [
       "30.397989417989418"
      ]
     },
     "execution_count": 134,
     "metadata": {},
     "output_type": "execute_result"
    }
   ],
   "source": [
    "mean_val"
   ]
  },
  {
   "cell_type": "code",
   "execution_count": 135,
   "id": "edaf1f02-050f-47e2-81d0-2d9bb3be3ab6",
   "metadata": {},
   "outputs": [],
   "source": [
    "lista = []"
   ]
  },
  {
   "cell_type": "code",
   "execution_count": 136,
   "id": "0591f620-471d-4760-8289-311807c51ad0",
   "metadata": {},
   "outputs": [],
   "source": [
    "frame3 = frame2.groupby(['Sex'])"
   ]
  },
  {
   "cell_type": "markdown",
   "id": "475e72e7-9278-43bb-9833-7bcff60a9be3",
   "metadata": {},
   "source": [
    "Второй способ для среднего"
   ]
  },
  {
   "cell_type": "code",
   "execution_count": 137,
   "id": "3c54be51-b43f-49fe-b041-987113f6f0e6",
   "metadata": {},
   "outputs": [
    {
     "data": {
      "text/plain": [
       "30.397989417989418"
      ]
     },
     "execution_count": 137,
     "metadata": {},
     "output_type": "execute_result"
    }
   ],
   "source": [
    "frame2[\"Age\"].mean()"
   ]
  },
  {
   "cell_type": "markdown",
   "id": "cb3ef259-c20c-4d9d-ae10-5bea8e3ac207",
   "metadata": {},
   "source": [
    "Посчитаем средний возраст мужчин"
   ]
  },
  {
   "cell_type": "code",
   "execution_count": 138,
   "id": "ac9b2349-7dc9-4e2a-a4c1-0da31f6bdf37",
   "metadata": {},
   "outputs": [],
   "source": [
    "frame_male = frame2.loc[frame2['Sex'] == 'male']"
   ]
  },
  {
   "cell_type": "code",
   "execution_count": 139,
   "id": "7c25b24b-2209-4a23-b9fb-0340a65836ee",
   "metadata": {},
   "outputs": [
    {
     "data": {
      "text/plain": [
       "31.014337606837604"
      ]
     },
     "execution_count": 139,
     "metadata": {},
     "output_type": "execute_result"
    }
   ],
   "source": [
    "frame_male[\"Age\"].mean()"
   ]
  },
  {
   "cell_type": "markdown",
   "id": "da8537eb-5635-4633-a6fd-42ddf9078f63",
   "metadata": {},
   "source": [
    "Средний возраст женщин"
   ]
  },
  {
   "cell_type": "code",
   "execution_count": 140,
   "id": "397b17b9-e41b-4bc8-8151-5b12c050dca1",
   "metadata": {},
   "outputs": [],
   "source": [
    "frame_female = frame2.loc[frame2['Sex'] == 'female']"
   ]
  },
  {
   "cell_type": "code",
   "execution_count": 141,
   "id": "5ab2a7ff-2f16-4e74-8438-cdc7b77cc8f4",
   "metadata": {},
   "outputs": [
    {
     "data": {
      "text/plain": [
       "29.39642361111111"
      ]
     },
     "execution_count": 141,
     "metadata": {},
     "output_type": "execute_result"
    }
   ],
   "source": [
    "frame_female[\"Age\"].mean()"
   ]
  },
  {
   "cell_type": "code",
   "execution_count": 142,
   "id": "868ee28d-2a1f-48ce-bce8-c48b97606e1e",
   "metadata": {},
   "outputs": [],
   "source": [
    "mean_val = np.mean(frame_female[\"Age\"].to_numpy(), axis=0)"
   ]
  },
  {
   "cell_type": "code",
   "execution_count": 143,
   "id": "6f2c112f-e511-4518-8979-1e5d90d529a4",
   "metadata": {},
   "outputs": [
    {
     "data": {
      "text/plain": [
       "29"
      ]
     },
     "execution_count": 143,
     "metadata": {},
     "output_type": "execute_result"
    }
   ],
   "source": [
    "round(mean_val)"
   ]
  },
  {
   "cell_type": "markdown",
   "id": "b3c6945d-c831-4068-b16b-2e169828999f",
   "metadata": {},
   "source": [
    "Сортировка"
   ]
  },
  {
   "cell_type": "code",
   "execution_count": 144,
   "id": "a41def90-b630-4765-94ef-dde7eb3bb77b",
   "metadata": {},
   "outputs": [],
   "source": [
    "frame_sort = frame.sort_values('PClass')"
   ]
  },
  {
   "cell_type": "code",
   "execution_count": 145,
   "id": "22b015f7-5264-48b0-bc23-718d0d08fb85",
   "metadata": {},
   "outputs": [
    {
     "data": {
      "text/plain": [
       "PassengerID                        741\n",
       "Name           Crease, Mr Ernest James\n",
       "PClass                             3rd\n",
       "Age                               19.0\n",
       "Sex                               male\n",
       "Survived                             0\n",
       "SexCode                              0\n",
       "Name: 740, dtype: object"
      ]
     },
     "execution_count": 145,
     "metadata": {},
     "output_type": "execute_result"
    }
   ],
   "source": [
    "frame_sort.iloc[1029]"
   ]
  },
  {
   "cell_type": "markdown",
   "id": "87f38559-9ed8-472b-bfc4-197661561dbc",
   "metadata": {},
   "source": [
    "# Задача 2"
   ]
  },
  {
   "cell_type": "markdown",
   "id": "b9c8b163-e58f-4612-99b0-aa64ece8dc6e",
   "metadata": {},
   "source": [
    "Получите выборку из набора данных на основании следующих критериев:\n",
    "\n",
    "    Все строки, где 0 и [82.9453125, 84.3515625]\n",
    "    И все строки, где 1 и [58.7890625, 65.078125]\n",
    "\n",
    "С Pandas можно сделать следующим образом:\n",
    "\n",
    "    выбор строк, которые соответствуют нескольким условиям\n",
    "\n",
    "    df.loc[((df['col1'] == 'A') & (df['col2' ] == 'G'))]\n",
    "\n",
    "    выбор строк, которые соответствуют одному из нескольких условий\n",
    "\n",
    "    df.loc[((df['col1'] > 10) | (df['col2' ] < 8))]\n",
    "\n"
   ]
  },
  {
   "cell_type": "code",
   "execution_count": 146,
   "id": "42c7d00d-2511-4c3e-94b0-81e0fda8a45e",
   "metadata": {},
   "outputs": [],
   "source": [
    "frame_s = pd.read_csv('./file2.csv')\n"
   ]
  },
  {
   "cell_type": "code",
   "execution_count": 147,
   "id": "29098d2a-74ae-44d7-90eb-e82b49ba73c9",
   "metadata": {},
   "outputs": [
    {
     "data": {
      "text/html": [
       "<div>\n",
       "<style scoped>\n",
       "    .dataframe tbody tr th:only-of-type {\n",
       "        vertical-align: middle;\n",
       "    }\n",
       "\n",
       "    .dataframe tbody tr th {\n",
       "        vertical-align: top;\n",
       "    }\n",
       "\n",
       "    .dataframe thead th {\n",
       "        text-align: right;\n",
       "    }\n",
       "</style>\n",
       "<table border=\"1\" class=\"dataframe\">\n",
       "  <thead>\n",
       "    <tr style=\"text-align: right;\">\n",
       "      <th></th>\n",
       "      <th>MIP</th>\n",
       "      <th>STDIP</th>\n",
       "      <th>EKIP</th>\n",
       "      <th>SIP</th>\n",
       "      <th>MC</th>\n",
       "      <th>STDC</th>\n",
       "      <th>EKC</th>\n",
       "      <th>SC</th>\n",
       "      <th>TG</th>\n",
       "    </tr>\n",
       "  </thead>\n",
       "  <tbody>\n",
       "    <tr>\n",
       "      <th>0</th>\n",
       "      <td>140.562500</td>\n",
       "      <td>55.683782</td>\n",
       "      <td>-0.234571</td>\n",
       "      <td>-0.699648</td>\n",
       "      <td>3.199833</td>\n",
       "      <td>19.110426</td>\n",
       "      <td>7.975532</td>\n",
       "      <td>74.242225</td>\n",
       "      <td>0</td>\n",
       "    </tr>\n",
       "    <tr>\n",
       "      <th>1</th>\n",
       "      <td>102.507812</td>\n",
       "      <td>58.882430</td>\n",
       "      <td>0.465318</td>\n",
       "      <td>-0.515088</td>\n",
       "      <td>1.677258</td>\n",
       "      <td>14.860146</td>\n",
       "      <td>10.576487</td>\n",
       "      <td>127.393580</td>\n",
       "      <td>0</td>\n",
       "    </tr>\n",
       "    <tr>\n",
       "      <th>2</th>\n",
       "      <td>103.015625</td>\n",
       "      <td>39.341649</td>\n",
       "      <td>0.323328</td>\n",
       "      <td>1.051164</td>\n",
       "      <td>3.121237</td>\n",
       "      <td>21.744669</td>\n",
       "      <td>7.735822</td>\n",
       "      <td>63.171909</td>\n",
       "      <td>0</td>\n",
       "    </tr>\n",
       "    <tr>\n",
       "      <th>3</th>\n",
       "      <td>136.750000</td>\n",
       "      <td>57.178449</td>\n",
       "      <td>-0.068415</td>\n",
       "      <td>-0.636238</td>\n",
       "      <td>3.642977</td>\n",
       "      <td>20.959280</td>\n",
       "      <td>6.896499</td>\n",
       "      <td>53.593661</td>\n",
       "      <td>0</td>\n",
       "    </tr>\n",
       "    <tr>\n",
       "      <th>4</th>\n",
       "      <td>88.726562</td>\n",
       "      <td>40.672225</td>\n",
       "      <td>0.600866</td>\n",
       "      <td>1.123492</td>\n",
       "      <td>1.178930</td>\n",
       "      <td>11.468720</td>\n",
       "      <td>14.269573</td>\n",
       "      <td>252.567306</td>\n",
       "      <td>0</td>\n",
       "    </tr>\n",
       "    <tr>\n",
       "      <th>...</th>\n",
       "      <td>...</td>\n",
       "      <td>...</td>\n",
       "      <td>...</td>\n",
       "      <td>...</td>\n",
       "      <td>...</td>\n",
       "      <td>...</td>\n",
       "      <td>...</td>\n",
       "      <td>...</td>\n",
       "      <td>...</td>\n",
       "    </tr>\n",
       "    <tr>\n",
       "      <th>17893</th>\n",
       "      <td>136.429688</td>\n",
       "      <td>59.847421</td>\n",
       "      <td>-0.187846</td>\n",
       "      <td>-0.738123</td>\n",
       "      <td>1.296823</td>\n",
       "      <td>12.166062</td>\n",
       "      <td>15.450260</td>\n",
       "      <td>285.931022</td>\n",
       "      <td>0</td>\n",
       "    </tr>\n",
       "    <tr>\n",
       "      <th>17894</th>\n",
       "      <td>122.554688</td>\n",
       "      <td>49.485605</td>\n",
       "      <td>0.127978</td>\n",
       "      <td>0.323061</td>\n",
       "      <td>16.409699</td>\n",
       "      <td>44.626893</td>\n",
       "      <td>2.945244</td>\n",
       "      <td>8.297092</td>\n",
       "      <td>0</td>\n",
       "    </tr>\n",
       "    <tr>\n",
       "      <th>17895</th>\n",
       "      <td>119.335938</td>\n",
       "      <td>59.935939</td>\n",
       "      <td>0.159363</td>\n",
       "      <td>-0.743025</td>\n",
       "      <td>21.430602</td>\n",
       "      <td>58.872000</td>\n",
       "      <td>2.499517</td>\n",
       "      <td>4.595173</td>\n",
       "      <td>0</td>\n",
       "    </tr>\n",
       "    <tr>\n",
       "      <th>17896</th>\n",
       "      <td>114.507812</td>\n",
       "      <td>53.902400</td>\n",
       "      <td>0.201161</td>\n",
       "      <td>-0.024789</td>\n",
       "      <td>1.946488</td>\n",
       "      <td>13.381731</td>\n",
       "      <td>10.007967</td>\n",
       "      <td>134.238910</td>\n",
       "      <td>0</td>\n",
       "    </tr>\n",
       "    <tr>\n",
       "      <th>17897</th>\n",
       "      <td>57.062500</td>\n",
       "      <td>85.797340</td>\n",
       "      <td>1.406391</td>\n",
       "      <td>0.089520</td>\n",
       "      <td>188.306020</td>\n",
       "      <td>64.712562</td>\n",
       "      <td>-1.597527</td>\n",
       "      <td>1.429475</td>\n",
       "      <td>0</td>\n",
       "    </tr>\n",
       "  </tbody>\n",
       "</table>\n",
       "<p>17898 rows × 9 columns</p>\n",
       "</div>"
      ],
      "text/plain": [
       "              MIP      STDIP      EKIP       SIP          MC       STDC  \\\n",
       "0      140.562500  55.683782 -0.234571 -0.699648    3.199833  19.110426   \n",
       "1      102.507812  58.882430  0.465318 -0.515088    1.677258  14.860146   \n",
       "2      103.015625  39.341649  0.323328  1.051164    3.121237  21.744669   \n",
       "3      136.750000  57.178449 -0.068415 -0.636238    3.642977  20.959280   \n",
       "4       88.726562  40.672225  0.600866  1.123492    1.178930  11.468720   \n",
       "...           ...        ...       ...       ...         ...        ...   \n",
       "17893  136.429688  59.847421 -0.187846 -0.738123    1.296823  12.166062   \n",
       "17894  122.554688  49.485605  0.127978  0.323061   16.409699  44.626893   \n",
       "17895  119.335938  59.935939  0.159363 -0.743025   21.430602  58.872000   \n",
       "17896  114.507812  53.902400  0.201161 -0.024789    1.946488  13.381731   \n",
       "17897   57.062500  85.797340  1.406391  0.089520  188.306020  64.712562   \n",
       "\n",
       "             EKC          SC  TG  \n",
       "0       7.975532   74.242225   0  \n",
       "1      10.576487  127.393580   0  \n",
       "2       7.735822   63.171909   0  \n",
       "3       6.896499   53.593661   0  \n",
       "4      14.269573  252.567306   0  \n",
       "...          ...         ...  ..  \n",
       "17893  15.450260  285.931022   0  \n",
       "17894   2.945244    8.297092   0  \n",
       "17895   2.499517    4.595173   0  \n",
       "17896  10.007967  134.238910   0  \n",
       "17897  -1.597527    1.429475   0  \n",
       "\n",
       "[17898 rows x 9 columns]"
      ]
     },
     "execution_count": 147,
     "metadata": {},
     "output_type": "execute_result"
    }
   ],
   "source": [
    "frame_s"
   ]
  },
  {
   "cell_type": "code",
   "execution_count": 148,
   "id": "3daafcef-89b5-42cb-a060-ba941cf79192",
   "metadata": {},
   "outputs": [],
   "source": [
    "# frame_s[frame_s[\"MIP\"] < 84.3515625 & frame_s[\"MIP\"] <= 82.9453125 ]"
   ]
  },
  {
   "cell_type": "code",
   "execution_count": 149,
   "id": "78d24707-b35d-45f3-aca7-d11e51824203",
   "metadata": {},
   "outputs": [],
   "source": [
    "frame_s2 = frame_s.loc[(((frame_s['MIP'] <= 84.3515625) & (frame_s[\"MIP\"] >= 82.9453125) & (frame_s['TG'] == 0)) | ((frame_s['MIP'] <= 65.078125) & (frame_s[\"MIP\"] >= 58.7890625) & (frame_s['TG'] == 1)))]"
   ]
  },
  {
   "cell_type": "raw",
   "id": "2f5d9d65-9da8-4dd5-90af-68620b8e55c2",
   "metadata": {},
   "source": [
    "print(frame_s2.count)"
   ]
  },
  {
   "cell_type": "code",
   "execution_count": 150,
   "id": "11650290-45c8-409c-b4ca-1ed28f6c8c10",
   "metadata": {},
   "outputs": [
    {
     "data": {
      "text/plain": [
       "72.8332301980198"
      ]
     },
     "execution_count": 150,
     "metadata": {},
     "output_type": "execute_result"
    }
   ],
   "source": [
    "frame_s2[\"MIP\"].mean()"
   ]
  }
 ],
 "metadata": {
  "kernelspec": {
   "display_name": "Python 3 (ipykernel)",
   "language": "python",
   "name": "python3"
  },
  "language_info": {
   "codemirror_mode": {
    "name": "ipython",
    "version": 3
   },
   "file_extension": ".py",
   "mimetype": "text/x-python",
   "name": "python",
   "nbconvert_exporter": "python",
   "pygments_lexer": "ipython3",
   "version": "3.11.5"
  }
 },
 "nbformat": 4,
 "nbformat_minor": 5
}
