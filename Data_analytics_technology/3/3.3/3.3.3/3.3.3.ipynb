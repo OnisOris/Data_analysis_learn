{
 "cells": [
  {
   "cell_type": "markdown",
   "id": "5245c9fa-d355-498b-882d-d68fd4179b5b",
   "metadata": {},
   "source": [
    "Средствами библиотеки Pandas языка Python в создайте датафрейм df_all из файла file.csv, в котором собраны данные о погоде в столицах мира по месяцам с 2018 по 2022 год. Найдите минимальное значение колонки'tmin' в Moscow за 2022 год. "
   ]
  },
  {
   "cell_type": "code",
   "execution_count": 8,
   "id": "4e157c7f-4f4a-4f64-820d-e4747e84bef4",
   "metadata": {},
   "outputs": [],
   "source": [
    "import pandas as pd\n",
    "import numpy as np"
   ]
  },
  {
   "cell_type": "code",
   "execution_count": 9,
   "id": "84b5967f-c73f-4977-8559-19e36ed590f4",
   "metadata": {},
   "outputs": [],
   "source": [
    "frame = pd.read_csv('./file.csv')"
   ]
  },
  {
   "cell_type": "code",
   "execution_count": 10,
   "id": "766df803-af00-4731-b8a4-60ed768c8452",
   "metadata": {},
   "outputs": [
    {
     "data": {
      "text/html": [
       "<div>\n",
       "<style scoped>\n",
       "    .dataframe tbody tr th:only-of-type {\n",
       "        vertical-align: middle;\n",
       "    }\n",
       "\n",
       "    .dataframe tbody tr th {\n",
       "        vertical-align: top;\n",
       "    }\n",
       "\n",
       "    .dataframe thead th {\n",
       "        text-align: right;\n",
       "    }\n",
       "</style>\n",
       "<table border=\"1\" class=\"dataframe\">\n",
       "  <thead>\n",
       "    <tr style=\"text-align: right;\">\n",
       "      <th></th>\n",
       "      <th>date</th>\n",
       "      <th>country</th>\n",
       "      <th>city</th>\n",
       "      <th>Latitude</th>\n",
       "      <th>Longitude</th>\n",
       "      <th>tavg</th>\n",
       "      <th>tmin</th>\n",
       "      <th>tmax</th>\n",
       "      <th>wdir</th>\n",
       "      <th>wspd</th>\n",
       "      <th>pres</th>\n",
       "    </tr>\n",
       "  </thead>\n",
       "  <tbody>\n",
       "    <tr>\n",
       "      <th>0</th>\n",
       "      <td>21-07-2018</td>\n",
       "      <td>Abkhazia</td>\n",
       "      <td>Sukhumi</td>\n",
       "      <td>43.001525</td>\n",
       "      <td>41.023415</td>\n",
       "      <td>23.4</td>\n",
       "      <td>20.9</td>\n",
       "      <td>25.5</td>\n",
       "      <td>329.0</td>\n",
       "      <td>9.3</td>\n",
       "      <td>1009.6</td>\n",
       "    </tr>\n",
       "    <tr>\n",
       "      <th>1</th>\n",
       "      <td>22-07-2018</td>\n",
       "      <td>Abkhazia</td>\n",
       "      <td>Sukhumi</td>\n",
       "      <td>43.001525</td>\n",
       "      <td>41.023415</td>\n",
       "      <td>23.5</td>\n",
       "      <td>21.0</td>\n",
       "      <td>25.7</td>\n",
       "      <td>337.0</td>\n",
       "      <td>9.4</td>\n",
       "      <td>1010.0</td>\n",
       "    </tr>\n",
       "    <tr>\n",
       "      <th>2</th>\n",
       "      <td>23-07-2018</td>\n",
       "      <td>Abkhazia</td>\n",
       "      <td>Sukhumi</td>\n",
       "      <td>43.001525</td>\n",
       "      <td>41.023415</td>\n",
       "      <td>23.5</td>\n",
       "      <td>21.1</td>\n",
       "      <td>25.5</td>\n",
       "      <td>41.0</td>\n",
       "      <td>8.2</td>\n",
       "      <td>1007.7</td>\n",
       "    </tr>\n",
       "    <tr>\n",
       "      <th>3</th>\n",
       "      <td>24-07-2018</td>\n",
       "      <td>Abkhazia</td>\n",
       "      <td>Sukhumi</td>\n",
       "      <td>43.001525</td>\n",
       "      <td>41.023415</td>\n",
       "      <td>24.3</td>\n",
       "      <td>20.8</td>\n",
       "      <td>27.1</td>\n",
       "      <td>10.0</td>\n",
       "      <td>9.3</td>\n",
       "      <td>1004.4</td>\n",
       "    </tr>\n",
       "    <tr>\n",
       "      <th>4</th>\n",
       "      <td>25-07-2018</td>\n",
       "      <td>Abkhazia</td>\n",
       "      <td>Sukhumi</td>\n",
       "      <td>43.001525</td>\n",
       "      <td>41.023415</td>\n",
       "      <td>26.5</td>\n",
       "      <td>22.7</td>\n",
       "      <td>30.0</td>\n",
       "      <td>9.0</td>\n",
       "      <td>9.7</td>\n",
       "      <td>1002.0</td>\n",
       "    </tr>\n",
       "    <tr>\n",
       "      <th>...</th>\n",
       "      <td>...</td>\n",
       "      <td>...</td>\n",
       "      <td>...</td>\n",
       "      <td>...</td>\n",
       "      <td>...</td>\n",
       "      <td>...</td>\n",
       "      <td>...</td>\n",
       "      <td>...</td>\n",
       "      <td>...</td>\n",
       "      <td>...</td>\n",
       "      <td>...</td>\n",
       "    </tr>\n",
       "    <tr>\n",
       "      <th>324642</th>\n",
       "      <td>07-10-2022</td>\n",
       "      <td>Western Sahara</td>\n",
       "      <td>El Aaiún</td>\n",
       "      <td>27.125287</td>\n",
       "      <td>-13.162500</td>\n",
       "      <td>22.1</td>\n",
       "      <td>18.6</td>\n",
       "      <td>25.6</td>\n",
       "      <td>3.0</td>\n",
       "      <td>24.7</td>\n",
       "      <td>1013.7</td>\n",
       "    </tr>\n",
       "    <tr>\n",
       "      <th>324643</th>\n",
       "      <td>08-10-2022</td>\n",
       "      <td>Western Sahara</td>\n",
       "      <td>El Aaiún</td>\n",
       "      <td>27.125287</td>\n",
       "      <td>-13.162500</td>\n",
       "      <td>22.1</td>\n",
       "      <td>19.6</td>\n",
       "      <td>25.6</td>\n",
       "      <td>2.0</td>\n",
       "      <td>20.5</td>\n",
       "      <td>1013.0</td>\n",
       "    </tr>\n",
       "    <tr>\n",
       "      <th>324644</th>\n",
       "      <td>09-10-2022</td>\n",
       "      <td>Western Sahara</td>\n",
       "      <td>El Aaiún</td>\n",
       "      <td>27.125287</td>\n",
       "      <td>-13.162500</td>\n",
       "      <td>23.4</td>\n",
       "      <td>19.6</td>\n",
       "      <td>29.6</td>\n",
       "      <td>34.0</td>\n",
       "      <td>24.0</td>\n",
       "      <td>1015.4</td>\n",
       "    </tr>\n",
       "    <tr>\n",
       "      <th>324645</th>\n",
       "      <td>10-10-2022</td>\n",
       "      <td>Western Sahara</td>\n",
       "      <td>El Aaiún</td>\n",
       "      <td>27.125287</td>\n",
       "      <td>-13.162500</td>\n",
       "      <td>23.1</td>\n",
       "      <td>18.6</td>\n",
       "      <td>29.7</td>\n",
       "      <td>39.0</td>\n",
       "      <td>28.4</td>\n",
       "      <td>1017.6</td>\n",
       "    </tr>\n",
       "    <tr>\n",
       "      <th>324646</th>\n",
       "      <td>11-10-2022</td>\n",
       "      <td>Western Sahara</td>\n",
       "      <td>El Aaiún</td>\n",
       "      <td>27.125287</td>\n",
       "      <td>-13.162500</td>\n",
       "      <td>21.4</td>\n",
       "      <td>17.3</td>\n",
       "      <td>27.5</td>\n",
       "      <td>21.0</td>\n",
       "      <td>21.3</td>\n",
       "      <td>1018.6</td>\n",
       "    </tr>\n",
       "  </tbody>\n",
       "</table>\n",
       "<p>324647 rows × 11 columns</p>\n",
       "</div>"
      ],
      "text/plain": [
       "              date         country      city   Latitude  Longitude  tavg  \\\n",
       "0       21-07-2018        Abkhazia   Sukhumi  43.001525  41.023415  23.4   \n",
       "1       22-07-2018        Abkhazia   Sukhumi  43.001525  41.023415  23.5   \n",
       "2       23-07-2018        Abkhazia   Sukhumi  43.001525  41.023415  23.5   \n",
       "3       24-07-2018        Abkhazia   Sukhumi  43.001525  41.023415  24.3   \n",
       "4       25-07-2018        Abkhazia   Sukhumi  43.001525  41.023415  26.5   \n",
       "...            ...             ...       ...        ...        ...   ...   \n",
       "324642  07-10-2022  Western Sahara  El Aaiún  27.125287 -13.162500  22.1   \n",
       "324643  08-10-2022  Western Sahara  El Aaiún  27.125287 -13.162500  22.1   \n",
       "324644  09-10-2022  Western Sahara  El Aaiún  27.125287 -13.162500  23.4   \n",
       "324645  10-10-2022  Western Sahara  El Aaiún  27.125287 -13.162500  23.1   \n",
       "324646  11-10-2022  Western Sahara  El Aaiún  27.125287 -13.162500  21.4   \n",
       "\n",
       "        tmin  tmax   wdir  wspd    pres  \n",
       "0       20.9  25.5  329.0   9.3  1009.6  \n",
       "1       21.0  25.7  337.0   9.4  1010.0  \n",
       "2       21.1  25.5   41.0   8.2  1007.7  \n",
       "3       20.8  27.1   10.0   9.3  1004.4  \n",
       "4       22.7  30.0    9.0   9.7  1002.0  \n",
       "...      ...   ...    ...   ...     ...  \n",
       "324642  18.6  25.6    3.0  24.7  1013.7  \n",
       "324643  19.6  25.6    2.0  20.5  1013.0  \n",
       "324644  19.6  29.6   34.0  24.0  1015.4  \n",
       "324645  18.6  29.7   39.0  28.4  1017.6  \n",
       "324646  17.3  27.5   21.0  21.3  1018.6  \n",
       "\n",
       "[324647 rows x 11 columns]"
      ]
     },
     "execution_count": 10,
     "metadata": {},
     "output_type": "execute_result"
    }
   ],
   "source": [
    "frame"
   ]
  },
  {
   "cell_type": "code",
   "execution_count": 11,
   "id": "7a698d56-13b9-46c8-b276-08f582b9cddd",
   "metadata": {},
   "outputs": [
    {
     "data": {
      "text/plain": [
       "-39.3"
      ]
     },
     "execution_count": 11,
     "metadata": {},
     "output_type": "execute_result"
    }
   ],
   "source": [
    "frame['tmin'].min()"
   ]
  },
  {
   "cell_type": "code",
   "execution_count": 15,
   "id": "f7c4bf8b-d174-444c-a5ea-7fd461901cd0",
   "metadata": {},
   "outputs": [],
   "source": [
    "frame['date'] = pd.to_datetime(frame['date'], dayfirst=True)"
   ]
  },
  {
   "cell_type": "code",
   "execution_count": 16,
   "id": "87fceaa0-b206-4a4e-8c59-83923c0b459b",
   "metadata": {},
   "outputs": [
    {
     "data": {
      "text/plain": [
       "0         2018\n",
       "1         2018\n",
       "2         2018\n",
       "3         2018\n",
       "4         2018\n",
       "          ... \n",
       "324642    2022\n",
       "324643    2022\n",
       "324644    2022\n",
       "324645    2022\n",
       "324646    2022\n",
       "Name: date, Length: 324647, dtype: int32"
      ]
     },
     "execution_count": 16,
     "metadata": {},
     "output_type": "execute_result"
    }
   ],
   "source": [
    "frame['date'].dt.year"
   ]
  },
  {
   "cell_type": "code",
   "execution_count": 17,
   "id": "b2f634b8-f564-4e4a-b783-bba13af1c372",
   "metadata": {},
   "outputs": [
    {
     "data": {
      "text/plain": [
       "date         datetime64[ns]\n",
       "country              object\n",
       "city                 object\n",
       "Latitude            float64\n",
       "Longitude           float64\n",
       "tavg                float64\n",
       "tmin                float64\n",
       "tmax                float64\n",
       "wdir                float64\n",
       "wspd                float64\n",
       "pres                float64\n",
       "dtype: object"
      ]
     },
     "execution_count": 17,
     "metadata": {},
     "output_type": "execute_result"
    }
   ],
   "source": [
    "frame.dtypes"
   ]
  },
  {
   "cell_type": "code",
   "execution_count": 18,
   "id": "2bc1cbc9-e249-4b31-a65b-82f7897d78ea",
   "metadata": {},
   "outputs": [],
   "source": [
    "df = frame"
   ]
  },
  {
   "cell_type": "markdown",
   "id": "18652f6d-2dac-4ec9-83e1-baddef735ff8",
   "metadata": {},
   "source": [
    "Ответ:"
   ]
  },
  {
   "cell_type": "code",
   "execution_count": 28,
   "id": "90f624d1-0cfb-42e7-9e09-3f8b9fd47f84",
   "metadata": {},
   "outputs": [
    {
     "data": {
      "text/plain": [
       "-17.9"
      ]
     },
     "execution_count": 28,
     "metadata": {},
     "output_type": "execute_result"
    }
   ],
   "source": [
    "df[(df['date'].dt.year == 2022) & (df['city'] == 'Moscow')]['tmin'].min()"
   ]
  }
 ],
 "metadata": {
  "kernelspec": {
   "display_name": "Python 3 (ipykernel)",
   "language": "python",
   "name": "python3"
  },
  "language_info": {
   "codemirror_mode": {
    "name": "ipython",
    "version": 3
   },
   "file_extension": ".py",
   "mimetype": "text/x-python",
   "name": "python",
   "nbconvert_exporter": "python",
   "pygments_lexer": "ipython3",
   "version": "3.11.5"
  }
 },
 "nbformat": 4,
 "nbformat_minor": 5
}
