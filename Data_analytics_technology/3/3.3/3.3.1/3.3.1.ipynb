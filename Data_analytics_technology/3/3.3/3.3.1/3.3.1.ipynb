{
 "cells": [
  {
   "cell_type": "markdown",
   "id": "4f953a6d-c2c2-4892-aa21-9c47e260f419",
   "metadata": {},
   "source": [
    "Есть одномерный массив a = np.array([29, 47, 9, 34, 26, 27, 16, 41, 14, 4, 38, 25, 24, 18, 45, 11]), который надо привести к форме (2, -1).В качестве ответа надо ввести сумму максимальных по столбцам элементов. "
   ]
  },
  {
   "cell_type": "code",
   "execution_count": 5,
   "id": "d37882ac-e680-4c34-98fa-a618ae416633",
   "metadata": {},
   "outputs": [],
   "source": [
    "import numpy as np"
   ]
  },
  {
   "cell_type": "code",
   "execution_count": 8,
   "id": "0e579706-fd97-416e-84e9-8648e3692cb8",
   "metadata": {},
   "outputs": [
    {
     "data": {
      "text/plain": [
       "287"
      ]
     },
     "execution_count": 8,
     "metadata": {},
     "output_type": "execute_result"
    }
   ],
   "source": [
    "a = np.array([29, 47, 9, 34, 26, 27, 16, 41, 14, 4, 38, 25, 24, 18, 45, 11])\n",
    "a.reshape(2, -1)\n",
    "29+47+38+34+26+27+45+41"
   ]
  }
 ],
 "metadata": {
  "kernelspec": {
   "display_name": "Python 3 (ipykernel)",
   "language": "python",
   "name": "python3"
  },
  "language_info": {
   "codemirror_mode": {
    "name": "ipython",
    "version": 3
   },
   "file_extension": ".py",
   "mimetype": "text/x-python",
   "name": "python",
   "nbconvert_exporter": "python",
   "pygments_lexer": "ipython3",
   "version": "3.11.5"
  }
 },
 "nbformat": 4,
 "nbformat_minor": 5
}
